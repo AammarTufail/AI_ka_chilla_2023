{
 "cells": [
  {
   "cell_type": "code",
   "execution_count": 2,
   "metadata": {},
   "outputs": [],
   "source": [
    "# import libraries\n",
    "import pandas as pd\n",
    "import seaborn as sns\n",
    "# slr\n",
    "from sklearn.linear_model import LinearRegression\n",
    "df = sns.load_dataset('tips')\n",
    "print(df.head())\n",
    "# divide the data into X and y\n",
    "X = df[['total_bill']]\n",
    "y = df['tip']\n",
    "# call/create the model\n",
    "model = LinearRegression()\n",
    "# train/fit the model\n",
    "model.fit(X, y)\n",
    "model.predict([[20]])\n",
    "# print the slope and intercept of the line best fit\n",
    "print(\"Slope: \", model.coef_[0])\n",
    "print(\"Intercept: \", model.intercept_)"
   ]
  }
 ],
 "metadata": {
  "kernelspec": {
   "display_name": "python_ml",
   "language": "python",
   "name": "python3"
  },
  "language_info": {
   "codemirror_mode": {
    "name": "ipython",
    "version": 3
   },
   "file_extension": ".py",
   "mimetype": "text/x-python",
   "name": "python",
   "nbconvert_exporter": "python",
   "pygments_lexer": "ipython3",
   "version": "3.11.4"
  },
  "orig_nbformat": 4
 },
 "nbformat": 4,
 "nbformat_minor": 2
}
