{
 "cells": [
  {
   "attachments": {},
   "cell_type": "markdown",
   "metadata": {},
   "source": [
    "# **Filling in the Blanks: A Step-by-Step Guide to Imputing Null Values in Python**\n",
    "\n",
    "**Author Details:**\n",
    "\n",
    "\n",
    "**Dr. Muhammad Aammar Tufail**\n",
    "\n",
    "PhD Data Science in Agriculture\n",
    "\n",
    "[<img src=\"https://raw.githubusercontent.com/FortAwesome/Font-Awesome/6.x/svgs/brands/youtube.svg\" width=\"50\" height=\"50\">](https://www.youtube.com/channel/UCmNXJXWONLNF6bdftGY0Otw/)\n",
    "[<img src=\"https://raw.githubusercontent.com/FortAwesome/Font-Awesome/6.x/svgs/brands/linkedin.svg\" width=\"50\" height=\"50\">](https://www.linkedin.com/in/dr-muhammad-aammar-tufail-02471213b/)\n",
    "[<img src=\"https://raw.githubusercontent.com/FortAwesome/Font-Awesome/6.x/svgs/brands/github.svg\" width=\"50\" height=\"50\">](https://github.com/AammarTufail)\n",
    "[<img src=\"https://raw.githubusercontent.com/FortAwesome/Font-Awesome/6.x/svgs/brands/twitter.svg\" width=\"50\" height=\"50\">](https://twitter.com/aammar_tufail)\n",
    "[<img src=\"https://raw.githubusercontent.com/FortAwesome/Font-Awesome/6.x/svgs/brands/facebook.svg\" width=\"50\" height=\"50\">](https://www.facebook.com/groups/codanics/permalink/1872283496462303/)\n"
   ]
  },
  {
   "attachments": {},
   "cell_type": "markdown",
   "metadata": {},
   "source": [
    "## **Introduction:**\n",
    "\n",
    "Missing data can pose significant challenges in data analysis and modeling. Incomplete datasets can lead to biased results and inaccurate conclusions. \n",
    "\n",
    "Fortunately, Python offers a range of powerful techniques for handling missing values. In this blog post, we will explore different methods to impute null values in Python using the popular pandas library. \n",
    "\n",
    "Let's dive in!"
   ]
  },
  {
   "attachments": {},
   "cell_type": "markdown",
   "metadata": {},
   "source": [
    "1. **Mean/Median/Mode Imputation:**\n",
    "Missing values in numerical data can be replaced with the mean, median, or mode of the non-null values in the same column. These imputation methods are straightforward and suitable for datasets with numeric features.\n",
    "\n",
    "2. **Forward Fill (pad) or Backward Fill (bfill):**\n",
    "When dealing with time series or ordered data, forward fill (pad) and backward fill (bfill) methods come in handy. Forward fill replaces null values with the most recent non-null value before it, while backward fill uses the next non-null value after it. These methods help maintain the chronological sequence of observations.\n",
    "\n",
    "3. **Interpolation:**\n",
    "Interpolation involves estimating missing values based on data trends. There are various interpolation methods available, such as linear interpolation, polynomial interpolation, and spline interpolation. These techniques are particularly useful for datasets with continuous variables.\n",
    "\n",
    "4. **Machine Learning-based Imputation:**\n",
    "For more advanced imputations, machine learning-based approaches can be employed. The K-Nearest Neighbors (KNN) algorithm finds the K nearest neighbors based on other features and uses their values to estimate the missing values. Random Forest imputation utilizes a Random Forest model to predict missing values based on the available features. Multivariate Imputation by Chained Equations (MICE) generates multiple imputations by building regression models on the observed data and iteratively imputing missing values based on other variables."
   ]
  },
  {
   "cell_type": "code",
   "execution_count": 1,
   "metadata": {},
   "outputs": [
    {
     "name": "stdout",
     "output_type": "stream",
     "text": [
      "survived         0\n",
      "pclass           0\n",
      "sex              0\n",
      "age            177\n",
      "sibsp            0\n",
      "parch            0\n",
      "fare             0\n",
      "embarked         2\n",
      "class            0\n",
      "who              0\n",
      "adult_male       0\n",
      "deck           688\n",
      "embark_town      2\n",
      "alive            0\n",
      "alone            0\n",
      "dtype: int64\n",
      "survived         0\n",
      "pclass           0\n",
      "sex              0\n",
      "age              0\n",
      "sibsp            0\n",
      "parch            0\n",
      "fare             0\n",
      "embarked         2\n",
      "class            0\n",
      "who              0\n",
      "adult_male       0\n",
      "deck           688\n",
      "embark_town      0\n",
      "alive            0\n",
      "alone            0\n",
      "dtype: int64\n"
     ]
    }
   ],
   "source": [
    "import pandas as pd\n",
    "import seaborn as sns\n",
    "\n",
    "# Load the Titanic dataset\n",
    "titanic_df = sns.load_dataset('titanic')\n",
    "\n",
    "# Display the information about missing values\n",
    "print(titanic_df.isnull().sum())\n",
    "\n",
    "# Impute missing values in the 'age' column using mean imputation\n",
    "titanic_df['age'].fillna(titanic_df['age'].mean(), inplace=True)\n",
    "\n",
    "# Impute missing values in the 'embark_town' column using mode imputation\n",
    "titanic_df['embark_town'].fillna(titanic_df['embark_town'].mode()[0], inplace=True)\n",
    "\n",
    "# Display the updated information about missing values\n",
    "print(titanic_df.isnull().sum())"
   ]
  },
  {
   "attachments": {},
   "cell_type": "markdown",
   "metadata": {},
   "source": [
    "## **Conclusion:**\n",
    "Handling missing data is crucial for accurate data analysis and modeling. In this blog post, we explored various methods to impute null values in Python using pandas. From simple mean imputation to more advanced machine learning-based approaches, each method offers unique advantages depending on the dataset characteristics and context of the problem.\n",
    "\n",
    "By leveraging these techniques, you can ensure that your data analysis is more robust, reliable, and yields meaningful insights. So, the next time you encounter missing values in your Python projects, feel confident in applying these imputation methods to enhance the quality of your analyses.\n",
    "\n",
    "Remember, selecting the appropriate imputation method requires careful consideration of your dataset's nature and the goals of your analysis. Experiment with different approaches and choose the one that best suits your needs.\n",
    "\n",
    "\n",
    "--- \n",
    "***Happy coding and data exploration!***\n"
   ]
  },
  {
   "cell_type": "code",
   "execution_count": null,
   "metadata": {},
   "outputs": [],
   "source": []
  }
 ],
 "metadata": {
  "kernelspec": {
   "display_name": "python_ml",
   "language": "python",
   "name": "python3"
  },
  "language_info": {
   "codemirror_mode": {
    "name": "ipython",
    "version": 3
   },
   "file_extension": ".py",
   "mimetype": "text/x-python",
   "name": "python",
   "nbconvert_exporter": "python",
   "pygments_lexer": "ipython3",
   "version": "3.11.0"
  },
  "orig_nbformat": 4
 },
 "nbformat": 4,
 "nbformat_minor": 2
}
