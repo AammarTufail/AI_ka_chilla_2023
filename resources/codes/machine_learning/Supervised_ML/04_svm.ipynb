{
 "cells": [
  {
   "cell_type": "code",
   "execution_count": 9,
   "metadata": {},
   "outputs": [],
   "source": [
    "# Import libraries\n",
    "import pandas as pd\n",
    "import numpy as np\n",
    "import matplotlib.pyplot as plt\n",
    "import seaborn as sns\n",
    "from sklearn.linear_model import LogisticRegression\n",
    "from sklearn.svm import SVC\n",
    "# import train test split\n",
    "from sklearn.model_selection import train_test_split\n",
    "# Evaluate the model using various metrics\n",
    "from sklearn.metrics import accuracy_score, precision_score, recall_score, f1_score, roc_auc_score, confusion_matrix"
   ]
  },
  {
   "cell_type": "code",
   "execution_count": 10,
   "metadata": {},
   "outputs": [],
   "source": [
    "df = sns.load_dataset('titanic')\n",
    "from sklearn.preprocessing import LabelEncoder\n",
    "le = LabelEncoder()\n",
    "df['sex'] = le.fit_transform(df['sex'])\n",
    "# impute null values\n",
    "df['age'] = df['age'].fillna(df['age'].mean())\n",
    "X = df[['age', 'sex']]\n",
    "y = df['survived']\n",
    "# train test split\n",
    "X_train, X_test, y_train, y_test = train_test_split(X, y, test_size=0.2, random_state=42)"
   ]
  },
  {
   "cell_type": "code",
   "execution_count": 11,
   "metadata": {},
   "outputs": [
    {
     "name": "stdout",
     "output_type": "stream",
     "text": [
      "Evaluation Metrics:\n",
      "-------------------\n",
      "Accuracy: 0.7821229050279329\n",
      "Precision: 0.7536231884057971\n",
      "Recall: 0.7027027027027027\n",
      "F1 Score: 0.7272727272727273\n",
      "ROC AUC Score: 0.7703989703989704\n",
      "Confusion Matrix: [[88 17]\n",
      " [22 52]]\n"
     ]
    }
   ],
   "source": [
    "# logistic regression\n",
    "lr = LogisticRegression()\n",
    "lr.fit(X_train, y_train)\n",
    "y_pred = lr.predict(X_test)\n",
    "\n",
    "# evaluating the model\n",
    "accuracy = accuracy_score(y_test, y_pred)\n",
    "precision = precision_score(y_test, y_pred)\n",
    "recall = recall_score(y_test, y_pred)\n",
    "f1 = f1_score(y_test, y_pred)\n",
    "roc_auc = roc_auc_score(y_test, y_pred)\n",
    "cm = confusion_matrix(y_test, y_pred)\n",
    "\n",
    "print('Evaluation Metrics:')\n",
    "print('-------------------')\n",
    "print('Accuracy:', accuracy)\n",
    "print('Precision:', precision)\n",
    "print('Recall:', recall)\n",
    "print('F1 Score:', f1)\n",
    "print('ROC AUC Score:', roc_auc)\n",
    "print('Confusion Matrix:', cm)"
   ]
  },
  {
   "cell_type": "code",
   "execution_count": 12,
   "metadata": {},
   "outputs": [
    {
     "name": "stdout",
     "output_type": "stream",
     "text": [
      "Evaluation Metrics:\n",
      "-------------------\n",
      "Accuracy: 0.6089385474860335\n",
      "Precision: 0.8333333333333334\n",
      "Recall: 0.06756756756756757\n",
      "F1 Score: 0.12500000000000003\n",
      "ROC AUC Score: 0.529021879021879\n",
      "Confusion Matrix: [[104   1]\n",
      " [ 69   5]]\n"
     ]
    }
   ],
   "source": [
    "# SVC\n",
    "svc = SVC()\n",
    "svc.fit(X_train, y_train)\n",
    "y_pred = svc.predict(X_test)\n",
    "\n",
    "# evaluating the model\n",
    "accuracy = accuracy_score(y_test, y_pred)\n",
    "precision = precision_score(y_test, y_pred)\n",
    "recall = recall_score(y_test, y_pred)\n",
    "f1 = f1_score(y_test, y_pred)\n",
    "roc_auc = roc_auc_score(y_test, y_pred)\n",
    "cm = confusion_matrix(y_test, y_pred)\n",
    "\n",
    "print('Evaluation Metrics:')\n",
    "print('-------------------')\n",
    "print('Accuracy:', accuracy)\n",
    "print('Precision:', precision)\n",
    "print('Recall:', recall)\n",
    "print('F1 Score:', f1)\n",
    "print('ROC AUC Score:', roc_auc)\n",
    "print('Confusion Matrix:', cm)"
   ]
  },
  {
   "attachments": {},
   "cell_type": "markdown",
   "metadata": {},
   "source": [
    "Evaluation Metrics (of LR):\n",
    "-------------------\n",
    "Accuracy: 0.7821229050279329\n",
    "Precision: 0.7536231884057971\n",
    "Recall: 0.7027027027027027\n",
    "F1 Score: 0.7272727272727273\n",
    "ROC AUC Score: 0.7703989703989704\n",
    "\n",
    "\n",
    "Evaluation Metrics (SVC):\n",
    "-------------------\n",
    "Accuracy: 0.6089385474860335\n",
    "Precision: 0.8333333333333334\n",
    "Recall: 0.06756756756756757\n",
    "F1 Score: 0.12500000000000003\n",
    "ROC AUC Score: 0.529021879021879"
   ]
  },
  {
   "cell_type": "code",
   "execution_count": 14,
   "metadata": {},
   "outputs": [
    {
     "data": {
      "text/plain": [
       "{'C': 1.0,\n",
       " 'break_ties': False,\n",
       " 'cache_size': 200,\n",
       " 'class_weight': None,\n",
       " 'coef0': 0.0,\n",
       " 'decision_function_shape': 'ovr',\n",
       " 'degree': 3,\n",
       " 'gamma': 'scale',\n",
       " 'kernel': 'rbf',\n",
       " 'max_iter': -1,\n",
       " 'probability': False,\n",
       " 'random_state': None,\n",
       " 'shrinking': True,\n",
       " 'tol': 0.001,\n",
       " 'verbose': False}"
      ]
     },
     "execution_count": 14,
     "metadata": {},
     "output_type": "execute_result"
    }
   ],
   "source": [
    "svc.get_params()"
   ]
  },
  {
   "cell_type": "code",
   "execution_count": 17,
   "metadata": {},
   "outputs": [
    {
     "data": {
      "text/plain": [
       "array([268, 264], dtype=int32)"
      ]
     },
     "execution_count": 17,
     "metadata": {},
     "output_type": "execute_result"
    }
   ],
   "source": [
    "svc.n_support_"
   ]
  },
  {
   "attachments": {},
   "cell_type": "markdown",
   "metadata": {},
   "source": [
    "----\n",
    "# SVM Details"
   ]
  },
  {
   "cell_type": "code",
   "execution_count": 18,
   "metadata": {},
   "outputs": [],
   "source": [
    "from sklearn import datasets\n",
    "from sklearn.model_selection import train_test_split\n",
    "from sklearn.preprocessing import StandardScaler\n",
    "from sklearn.svm import SVC\n",
    "from sklearn.metrics import accuracy_score\n",
    "\n",
    "# Load the Iris dataset\n",
    "iris = datasets.load_iris() #from scikit learn directly\n",
    "X = iris.data\n",
    "y = iris.target\n",
    "X_train, X_test, y_train, y_test = train_test_split(X, y, test_size=0.3, random_state=21, stratify=y)"
   ]
  },
  {
   "cell_type": "code",
   "execution_count": 19,
   "metadata": {},
   "outputs": [],
   "source": [
    "# Standardize the features\n",
    "sc = StandardScaler()\n",
    "X_train_std = sc.fit_transform(X_train)\n",
    "X_test_std = sc.transform(X_test)"
   ]
  },
  {
   "cell_type": "code",
   "execution_count": 20,
   "metadata": {},
   "outputs": [
    {
     "data": {
      "text/html": [
       "<style>#sk-container-id-1 {color: black;background-color: white;}#sk-container-id-1 pre{padding: 0;}#sk-container-id-1 div.sk-toggleable {background-color: white;}#sk-container-id-1 label.sk-toggleable__label {cursor: pointer;display: block;width: 100%;margin-bottom: 0;padding: 0.3em;box-sizing: border-box;text-align: center;}#sk-container-id-1 label.sk-toggleable__label-arrow:before {content: \"▸\";float: left;margin-right: 0.25em;color: #696969;}#sk-container-id-1 label.sk-toggleable__label-arrow:hover:before {color: black;}#sk-container-id-1 div.sk-estimator:hover label.sk-toggleable__label-arrow:before {color: black;}#sk-container-id-1 div.sk-toggleable__content {max-height: 0;max-width: 0;overflow: hidden;text-align: left;background-color: #f0f8ff;}#sk-container-id-1 div.sk-toggleable__content pre {margin: 0.2em;color: black;border-radius: 0.25em;background-color: #f0f8ff;}#sk-container-id-1 input.sk-toggleable__control:checked~div.sk-toggleable__content {max-height: 200px;max-width: 100%;overflow: auto;}#sk-container-id-1 input.sk-toggleable__control:checked~label.sk-toggleable__label-arrow:before {content: \"▾\";}#sk-container-id-1 div.sk-estimator input.sk-toggleable__control:checked~label.sk-toggleable__label {background-color: #d4ebff;}#sk-container-id-1 div.sk-label input.sk-toggleable__control:checked~label.sk-toggleable__label {background-color: #d4ebff;}#sk-container-id-1 input.sk-hidden--visually {border: 0;clip: rect(1px 1px 1px 1px);clip: rect(1px, 1px, 1px, 1px);height: 1px;margin: -1px;overflow: hidden;padding: 0;position: absolute;width: 1px;}#sk-container-id-1 div.sk-estimator {font-family: monospace;background-color: #f0f8ff;border: 1px dotted black;border-radius: 0.25em;box-sizing: border-box;margin-bottom: 0.5em;}#sk-container-id-1 div.sk-estimator:hover {background-color: #d4ebff;}#sk-container-id-1 div.sk-parallel-item::after {content: \"\";width: 100%;border-bottom: 1px solid gray;flex-grow: 1;}#sk-container-id-1 div.sk-label:hover label.sk-toggleable__label {background-color: #d4ebff;}#sk-container-id-1 div.sk-serial::before {content: \"\";position: absolute;border-left: 1px solid gray;box-sizing: border-box;top: 0;bottom: 0;left: 50%;z-index: 0;}#sk-container-id-1 div.sk-serial {display: flex;flex-direction: column;align-items: center;background-color: white;padding-right: 0.2em;padding-left: 0.2em;position: relative;}#sk-container-id-1 div.sk-item {position: relative;z-index: 1;}#sk-container-id-1 div.sk-parallel {display: flex;align-items: stretch;justify-content: center;background-color: white;position: relative;}#sk-container-id-1 div.sk-item::before, #sk-container-id-1 div.sk-parallel-item::before {content: \"\";position: absolute;border-left: 1px solid gray;box-sizing: border-box;top: 0;bottom: 0;left: 50%;z-index: -1;}#sk-container-id-1 div.sk-parallel-item {display: flex;flex-direction: column;z-index: 1;position: relative;background-color: white;}#sk-container-id-1 div.sk-parallel-item:first-child::after {align-self: flex-end;width: 50%;}#sk-container-id-1 div.sk-parallel-item:last-child::after {align-self: flex-start;width: 50%;}#sk-container-id-1 div.sk-parallel-item:only-child::after {width: 0;}#sk-container-id-1 div.sk-dashed-wrapped {border: 1px dashed gray;margin: 0 0.4em 0.5em 0.4em;box-sizing: border-box;padding-bottom: 0.4em;background-color: white;}#sk-container-id-1 div.sk-label label {font-family: monospace;font-weight: bold;display: inline-block;line-height: 1.2em;}#sk-container-id-1 div.sk-label-container {text-align: center;}#sk-container-id-1 div.sk-container {/* jupyter's `normalize.less` sets `[hidden] { display: none; }` but bootstrap.min.css set `[hidden] { display: none !important; }` so we also need the `!important` here to be able to override the default hidden behavior on the sphinx rendered scikit-learn.org. See: https://github.com/scikit-learn/scikit-learn/issues/21755 */display: inline-block !important;position: relative;}#sk-container-id-1 div.sk-text-repr-fallback {display: none;}</style><div id=\"sk-container-id-1\" class=\"sk-top-container\"><div class=\"sk-text-repr-fallback\"><pre>SVC(random_state=42)</pre><b>In a Jupyter environment, please rerun this cell to show the HTML representation or trust the notebook. <br />On GitHub, the HTML representation is unable to render, please try loading this page with nbviewer.org.</b></div><div class=\"sk-container\" hidden><div class=\"sk-item\"><div class=\"sk-estimator sk-toggleable\"><input class=\"sk-toggleable__control sk-hidden--visually\" id=\"sk-estimator-id-1\" type=\"checkbox\" checked><label for=\"sk-estimator-id-1\" class=\"sk-toggleable__label sk-toggleable__label-arrow\">SVC</label><div class=\"sk-toggleable__content\"><pre>SVC(random_state=42)</pre></div></div></div></div></div>"
      ],
      "text/plain": [
       "SVC(random_state=42)"
      ]
     },
     "execution_count": 20,
     "metadata": {},
     "output_type": "execute_result"
    }
   ],
   "source": [
    "# Create a Support Vector Classifier with the Radial basis function (RBF) kernel\n",
    "svm = SVC(kernel='rbf', C=1.0, random_state=42)\n",
    "\n",
    "# Train the model using the training data\n",
    "svm.fit(X_train_std, y_train)"
   ]
  },
  {
   "cell_type": "code",
   "execution_count": 21,
   "metadata": {},
   "outputs": [
    {
     "name": "stdout",
     "output_type": "stream",
     "text": [
      "Accuracy: 0.7821229050279329\n"
     ]
    }
   ],
   "source": [
    "# Make predictions using the test data\n",
    "y_pred = svm.predict(X_test_std)\n",
    "\n",
    "# Calculate the accuracy of the model\n",
    "accuracy = accuracy_score(y_test, y_pred)\n",
    "print(\"Accuracy:\", accuracy)"
   ]
  },
  {
   "attachments": {},
   "cell_type": "markdown",
   "metadata": {},
   "source": [
    "# Detecting Outliers using SVM"
   ]
  },
  {
   "cell_type": "code",
   "execution_count": 37,
   "metadata": {},
   "outputs": [
    {
     "name": "stdout",
     "output_type": "stream",
     "text": [
      "Number of outliers: 9\n",
      "Outliers:      Survived  Pclass  Sex   Age  Siblings/Spouses Aboard  \\\n",
      "225         1       2    0  19.0                        0   \n",
      "235         0       2    0  44.0                        1   \n",
      "237         0       2    0  19.0                        0   \n",
      "269         1       3    0  25.0                        0   \n",
      "489         0       1    0  55.0                        0   \n",
      "659         0       1    0  47.0                        0   \n",
      "818         0       1    0  38.0                        0   \n",
      "851         1       3    1  18.0                        0   \n",
      "881         0       3    1  39.0                        0   \n",
      "\n",
      "     Parents/Children Aboard     Fare  \n",
      "225                        0  10.5000  \n",
      "235                        0  26.0000  \n",
      "237                        0  10.5000  \n",
      "269                        0   0.0000  \n",
      "489                        0  30.5000  \n",
      "659                        0  25.5875  \n",
      "818                        0   0.0000  \n",
      "851                        1   9.3500  \n",
      "881                        5  29.1250  \n"
     ]
    }
   ],
   "source": [
    "import pandas as pd\n",
    "import numpy as np\n",
    "from sklearn import svm\n",
    "\n",
    "# load Titanic dataset\n",
    "df = pd.read_csv('https://web.stanford.edu/class/archive/cs/cs109/cs109.1166/stuff/titanic.csv')\n",
    "\n",
    "# drop irrelevant columns and missing values\n",
    "df.drop(['Name'], axis=1, inplace=True)\n",
    "df.dropna(inplace=True)\n",
    "\n",
    "# convert categorical variables to numerical\n",
    "df['Sex'] = pd.factorize(df['Sex'])[0]\n",
    "\n",
    "# split features and target variable\n",
    "X = df.drop('Survived', axis=1).values\n",
    "y = df['Survived'].values\n",
    "\n",
    "# train an SVM model\n",
    "clf = svm.OneClassSVM(nu=0.1, kernel=\"rbf\", gamma=0.1)\n",
    "clf.fit(X)\n",
    "\n",
    "# predict class labels for all data points\n",
    "y_pred = clf.predict(X)\n",
    "\n",
    "# calculate the distance of each data point from the decision boundary\n",
    "distances = clf.decision_function(X)\n",
    "\n",
    "# sort the distances in descending order\n",
    "sorted_idx = np.argsort(distances)[::-1]\n",
    "\n",
    "# set a threshold for the distance\n",
    "threshold = np.percentile(distances, 1)\n",
    "\n",
    "# identify the data points that have a distance above the threshold as outliers\n",
    "outliers = df.iloc[distances < threshold]\n",
    "\n",
    "print(\"Number of outliers:\", len(outliers))\n",
    "print(\"Outliers:\", outliers)\n"
   ]
  },
  {
   "attachments": {},
   "cell_type": "markdown",
   "metadata": {},
   "source": [
    "## Details:\n",
    "* The `OneClassSVM` is an `unsupervised learning algorithm` that is commonly used for outlier detection. It learns a boundary that separates the majority of the data from the rest, and any points that fall outside of this boundary are considered outliers.\n",
    "\n",
    "* The `nu parameter` specifies the fraction of training data that is allowed to be classified as outliers. A lower value of nu allows more data points to be classified as outliers, while a higher value allows fewer data points to be classified as outliers.\n",
    "\n",
    "* The `kernel parameter` specifies the type of kernel to use. The \"rbf\" kernel is a popular choice that uses a radial basis function to map the input features to a higher-dimensional space.\n",
    "\n",
    "* The `gamma parameter` controls the shape of the kernel function. A higher value of gamma results in a narrower peak of the radial basis function, which can lead to overfitting if the value is too high."
   ]
  },
  {
   "attachments": {},
   "cell_type": "markdown",
   "metadata": {},
   "source": [
    "# Outlier detection in tips dataset"
   ]
  },
  {
   "cell_type": "code",
   "execution_count": 29,
   "metadata": {},
   "outputs": [
    {
     "name": "stdout",
     "output_type": "stream",
     "text": [
      "Number of outliers: 13\n",
      "Outliers:      total_bill    tip  sex  smoker  size\n",
      "67         3.07   1.00    0       1     1\n",
      "88        24.71   5.85    1       0     2\n",
      "93        16.32   4.30    0       1     2\n",
      "141       34.30   6.70    1       0     6\n",
      "142       41.19   5.00    1       0     5\n",
      "143       27.05   5.00    0       0     6\n",
      "156       48.17   5.00    1       0     6\n",
      "159       16.49   2.00    1       0     4\n",
      "170       50.81  10.00    1       1     3\n",
      "184       40.55   3.00    1       1     2\n",
      "185       20.69   5.00    1       0     5\n",
      "203       16.40   2.50    0       1     2\n",
      "240       27.18   2.00    0       1     2\n"
     ]
    }
   ],
   "source": [
    "import pandas as pd\n",
    "import numpy as np\n",
    "from sklearn import svm\n",
    "\n",
    "# load Tips dataset\n",
    "df = pd.read_csv('https://raw.githubusercontent.com/mwaskom/seaborn-data/master/tips.csv')\n",
    "\n",
    "# drop irrelevant columns\n",
    "df.drop(['day', 'time'], axis=1, inplace=True)\n",
    "\n",
    "# convert categorical variables to numerical\n",
    "df['sex'] = pd.factorize(df['sex'])[0]\n",
    "df['smoker'] = pd.factorize(df['smoker'])[0]\n",
    "\n",
    "# split features and target variable\n",
    "X = df.drop('tip', axis=1).values\n",
    "y = df['tip'].values\n",
    "\n",
    "# train an SVM model\n",
    "clf = svm.OneClassSVM(nu=0.1, kernel=\"rbf\", gamma=0.1) \n",
    "clf.fit(X)\n",
    "\n",
    "# predict class labels for all data points\n",
    "y_pred = clf.predict(X)\n",
    "\n",
    "# calculate the distance of each data point from the decision boundary\n",
    "distances = clf.decision_function(X)\n",
    "\n",
    "# sort the distances in descending order\n",
    "sorted_idx = np.argsort(distances)[::-1]\n",
    "\n",
    "# set a threshold for the distance\n",
    "threshold = np.percentile(distances, 5)\n",
    "\n",
    "# identify the data points that have a distance above the threshold as outliers\n",
    "outliers = df.iloc[distances < threshold]\n",
    "\n",
    "print(\"Number of outliers:\", len(outliers))\n",
    "print(\"Outliers:\", outliers)\n"
   ]
  },
  {
   "attachments": {},
   "cell_type": "markdown",
   "metadata": {},
   "source": [
    "# SVM Regressor"
   ]
  },
  {
   "cell_type": "code",
   "execution_count": 38,
   "metadata": {},
   "outputs": [
    {
     "name": "stdout",
     "output_type": "stream",
     "text": [
      "Mean Squared Error: 0.5308412202890427\n"
     ]
    }
   ],
   "source": [
    "import pandas as pd\n",
    "import numpy as np\n",
    "from sklearn import svm\n",
    "from sklearn.model_selection import train_test_split\n",
    "from sklearn.metrics import mean_squared_error\n",
    "\n",
    "# load Tips dataset\n",
    "df = pd.read_csv('https://raw.githubusercontent.com/mwaskom/seaborn-data/master/tips.csv')\n",
    "\n",
    "# drop irrelevant columns\n",
    "df.drop(['day', 'time'], axis=1, inplace=True)\n",
    "\n",
    "# convert categorical variables to numerical\n",
    "df['sex'] = pd.factorize(df['sex'])[0]\n",
    "df['smoker'] = pd.factorize(df['smoker'])[0]\n",
    "\n",
    "# split features and target variable\n",
    "X = df.drop('tip', axis=1).values\n",
    "y = df['tip'].values\n",
    "\n",
    "# split the data into training and test sets\n",
    "X_train, X_test, y_train, y_test = train_test_split(X, y, test_size=0.2, random_state=42)\n",
    "\n",
    "# train an SVM regressor\n",
    "reg = svm.SVR(kernel='rbf', gamma='scale')\n",
    "reg.fit(X_train, y_train)\n",
    "\n",
    "# predict the test set and calculate mean squared error\n",
    "y_pred = reg.predict(X_test)\n",
    "mse = mean_squared_error(y_test, y_pred)\n",
    "\n",
    "print(\"Mean Squared Error:\", mse)\n"
   ]
  },
  {
   "cell_type": "code",
   "execution_count": 31,
   "metadata": {},
   "outputs": [
    {
     "name": "stdout",
     "output_type": "stream",
     "text": [
      "Root Mean Squared Error: 0.7285885123230003\n"
     ]
    }
   ],
   "source": [
    "from sklearn.metrics import mean_squared_error\n",
    "\n",
    "rmse = np.sqrt(mean_squared_error(y_test, y_pred))\n",
    "print(\"Root Mean Squared Error:\", rmse)\n"
   ]
  },
  {
   "cell_type": "code",
   "execution_count": 32,
   "metadata": {},
   "outputs": [
    {
     "name": "stdout",
     "output_type": "stream",
     "text": [
      "Mean Absolute Error: 0.5624715249431942\n"
     ]
    }
   ],
   "source": [
    "from sklearn.metrics import mean_absolute_error\n",
    "\n",
    "mae = mean_absolute_error(y_test, y_pred)\n",
    "print(\"Mean Absolute Error:\", mae)\n"
   ]
  },
  {
   "cell_type": "code",
   "execution_count": 33,
   "metadata": {},
   "outputs": [
    {
     "name": "stdout",
     "output_type": "stream",
     "text": [
      "R-squared: 0.5753172884349698\n"
     ]
    }
   ],
   "source": [
    "from sklearn.metrics import r2_score\n",
    "\n",
    "r2 = r2_score(y_test, y_pred)\n",
    "print(\"R-squared:\", r2)\n"
   ]
  },
  {
   "cell_type": "code",
   "execution_count": 39,
   "metadata": {},
   "outputs": [
    {
     "data": {
      "text/plain": [
       "{'C': 1.0,\n",
       " 'cache_size': 200,\n",
       " 'coef0': 0.0,\n",
       " 'degree': 3,\n",
       " 'epsilon': 0.1,\n",
       " 'gamma': 'scale',\n",
       " 'kernel': 'rbf',\n",
       " 'max_iter': -1,\n",
       " 'shrinking': True,\n",
       " 'tol': 0.001,\n",
       " 'verbose': False}"
      ]
     },
     "execution_count": 39,
     "metadata": {},
     "output_type": "execute_result"
    }
   ],
   "source": [
    "reg.get_params()"
   ]
  },
  {
   "cell_type": "code",
   "execution_count": null,
   "metadata": {},
   "outputs": [],
   "source": []
  }
 ],
 "metadata": {
  "kernelspec": {
   "display_name": "python_ml",
   "language": "python",
   "name": "python3"
  },
  "language_info": {
   "codemirror_mode": {
    "name": "ipython",
    "version": 3
   },
   "file_extension": ".py",
   "mimetype": "text/x-python",
   "name": "python",
   "nbconvert_exporter": "python",
   "pygments_lexer": "ipython3",
   "version": "3.11.0"
  },
  "orig_nbformat": 4
 },
 "nbformat": 4,
 "nbformat_minor": 2
}
