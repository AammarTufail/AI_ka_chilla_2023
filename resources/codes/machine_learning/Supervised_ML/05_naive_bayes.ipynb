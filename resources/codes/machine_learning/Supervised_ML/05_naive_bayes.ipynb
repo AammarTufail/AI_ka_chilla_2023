{
 "cells": [
  {
   "attachments": {},
   "cell_type": "markdown",
   "metadata": {},
   "source": [
    "# **NAIVE BAYES ML MODEL**\n",
    "\n",
    "* Naive Bayes is a simple supervised machine learning algorithm.\n",
    "* Naive Bayes is a family of probabilistic algorithms primarily used for classification problems.\n",
    "* This can not be used for regression tasks.\n",
    "* The algorithm is based on applying `Bayes' theorem` and assuming `conditional independence` between features given the class label.\n",
    "* It's a simple yet effective method for many classification tasks, especially with text data (e.g., spam filtering or sentiment analysis).\n",
    "\n",
    "## There are three main types of Naive Bayes:\n",
    "1. **Gaussian Naive Bayes**\n",
    "   * This algorithm is used for `continuous numerical features` that are assumed to follow a ``normal distribution`` (also known as Gaussian distribution). \n",
    "   * In Gaussian Naive Bayes, the likelihood probability P(features | class) is modeled using the normal distribution with a mean and variance estimated from the training data.\n",
    "1. **Multinomial Naive Bayes**\n",
    "   * This algorithm is used for `discrete count data` such as `word counts` in text classification. \n",
    "   * In Multinomial Naive Bayes, the likelihood probability P(features | class) is modeled using the `Multinomial distribution`, which models the probability of observing a feature count given the class label.\n",
    "2. **Bernoulli Naive Bayes**\n",
    "   *  This algorithm is also used for `discrete count` data such as `word counts` in text classification, but the `features are binary (0 or 1)` instead of counts. \n",
    "   *  In Bernoulli Naive Bayes, the likelihood probability P(features | class) is modeled using the `Bernoulli distribution`, which models the probability of observing a feature given the class label as a binary variable.\n",
    "\n",
    "\n",
    "<img src=\"https://www.scribbr.com/wp-content/uploads/2023/02/standard-normal-distribution-example.webp\" alt=\"gassian distribution\" width=\"20%\">\n",
    "\n",
    "<img src=\"https://www.researchgate.net/profile/Peter-Hall-20/publication/266659404/figure/fig4/AS:806568463458306@1569312315640/A-Multinomial-Distribution_W640.jpg\" alt=\"Multinomial Distribution\" width=\"35%\">\n",
    "\n",
    "<img src=\"https://www.tutorialspoint.com/python/images/bernoulli.png\" alt=\"Bernoulli Distribution\" width=\"20%\">"
   ]
  },
  {
   "attachments": {},
   "cell_type": "markdown",
   "metadata": {},
   "source": [
    "**Complement Naive Bayes:**\n",
    "\n",
    "This algorithm is an `extension of Multinomial Naive Bayes` that is designed `to handle imbalanced datasets` where one class has significantly fewer observations than the other. \n",
    "\n",
    "In Complement Naive Bayes, the likelihood probability P(features | class) is modeled using `the complement of the Multinomial distribution`, which models the probability of observing the absence of a feature given the class label."
   ]
  },
  {
   "attachments": {},
   "cell_type": "markdown",
   "metadata": {},
   "source": [
    "# Example"
   ]
  },
  {
   "cell_type": "code",
   "execution_count": 32,
   "metadata": {},
   "outputs": [
    {
     "name": "stdout",
     "output_type": "stream",
     "text": [
      "Gaussian Naive Bayes accuracy: 0.9777777777777777\n",
      "Multinomial Naive Bayes accuracy: 0.9555555555555556\n",
      "Bernoulli Naive Bayes accuracy: 0.28888888888888886\n",
      "Complement Naive Bayes accuracy: 0.7111111111111111\n",
      "---------------------------------\n",
      "Best model: Gaussian\n",
      "Best accuracy: 0.9777777777777777\n"
     ]
    }
   ],
   "source": [
    "from sklearn.datasets import load_iris\n",
    "from sklearn.model_selection import train_test_split\n",
    "from sklearn.naive_bayes import GaussianNB, MultinomialNB, BernoulliNB, ComplementNB\n",
    "from sklearn.metrics import accuracy_score\n",
    "\n",
    "# Load the iris dataset\n",
    "iris = load_iris()\n",
    "X = iris.data\n",
    "y = iris.target\n",
    "\n",
    "# Split the dataset into training and testing sets\n",
    "X_train, X_test, y_train, y_test = train_test_split(X, y, test_size=0.3, random_state=42)\n",
    "\n",
    "# Initialize the Naive Bayes models\n",
    "gnb = GaussianNB()\n",
    "mnb = MultinomialNB()\n",
    "bnb = BernoulliNB()\n",
    "cnb = ComplementNB()\n",
    "\n",
    "# Train the models on the training set\n",
    "gnb.fit(X_train, y_train)\n",
    "mnb.fit(X_train, y_train)\n",
    "bnb.fit(X_train, y_train)\n",
    "cnb.fit(X_train, y_train)\n",
    "\n",
    "# Make predictions on the testing set using each model\n",
    "gnb_pred = gnb.predict(X_test)\n",
    "mnb_pred = mnb.predict(X_test)\n",
    "bnb_pred = bnb.predict(X_test)\n",
    "cnb_pred = cnb.predict(X_test)\n",
    "\n",
    "# Calculate the accuracy scores for each model\n",
    "gnb_score = accuracy_score(y_test, gnb_pred)\n",
    "mnb_score = accuracy_score(y_test, mnb_pred)\n",
    "bnb_score = accuracy_score(y_test, bnb_pred)\n",
    "cnb_score = accuracy_score(y_test, cnb_pred)\n",
    "\n",
    "# Print the accuracy scores\n",
    "print(\"Gaussian Naive Bayes accuracy:\", gnb_score)\n",
    "print(\"Multinomial Naive Bayes accuracy:\", mnb_score)\n",
    "print(\"Bernoulli Naive Bayes accuracy:\", bnb_score)\n",
    "print(\"Complement Naive Bayes accuracy:\", cnb_score)\n",
    "\n",
    "# Select the best model based on the accuracy score\n",
    "best_model = max([(gnb_score, 'Gaussian'), (mnb_score, 'Multinomial'), (bnb_score, 'Bernoulli'), (cnb_score, 'Complement')])\n",
    "# print a separating line in output\n",
    "print(\"---------------------------------\")\n",
    "\n",
    "print(\"Best model:\", best_model[1])\n",
    "print(\"Best accuracy:\", best_model[0])\n"
   ]
  },
  {
   "cell_type": "code",
   "execution_count": 37,
   "metadata": {},
   "outputs": [
    {
     "name": "stdout",
     "output_type": "stream",
     "text": [
      "Gaussian Naive Bayes accuracy: 1.0\n",
      "Multinomial Naive Bayes accuracy: 0.9\n",
      "Bernoulli Naive Bayes accuracy: 0.3\n",
      "Complement Naive Bayes accuracy: 0.7\n",
      "---------------------------------\n",
      "Best model: Gaussian\n",
      "Best accuracy: 1.0\n"
     ]
    }
   ],
   "source": [
    "from sklearn.datasets import load_iris\n",
    "from sklearn.model_selection import train_test_split\n",
    "from sklearn.naive_bayes import GaussianNB, MultinomialNB, BernoulliNB, ComplementNB\n",
    "from sklearn.metrics import accuracy_score\n",
    "\n",
    "# Load the iris dataset\n",
    "iris = load_iris()\n",
    "X = iris.data\n",
    "y = iris.target\n",
    "\n",
    "# Split the dataset into training and testing sets\n",
    "X_train, X_test, y_train, y_test = train_test_split(X, y, test_size=0.2, random_state=42)\n",
    "\n",
    "# Initialize the Naive Bayes models\n",
    "gnb = GaussianNB()\n",
    "mnb = MultinomialNB()\n",
    "bnb = BernoulliNB()\n",
    "cnb = ComplementNB()\n",
    "\n",
    "# Train the models on the training set\n",
    "gnb.fit(X_train, y_train)\n",
    "mnb.fit(X_train, y_train)\n",
    "bnb.fit(X_train, y_train)\n",
    "cnb.fit(X_train, y_train)\n",
    "\n",
    "# Make predictions on the testing set using each model\n",
    "gnb_pred = gnb.predict(X_test)\n",
    "mnb_pred = mnb.predict(X_test)\n",
    "bnb_pred = bnb.predict(X_test)\n",
    "cnb_pred = cnb.predict(X_test)\n",
    "\n",
    "# Calculate the accuracy scores for each model\n",
    "gnb_score = accuracy_score(y_test, gnb_pred)\n",
    "mnb_score = accuracy_score(y_test, mnb_pred)\n",
    "bnb_score = accuracy_score(y_test, bnb_pred)\n",
    "cnb_score = accuracy_score(y_test, cnb_pred)\n",
    "\n",
    "# Print the accuracy scores\n",
    "print(\"Gaussian Naive Bayes accuracy:\", gnb_score)\n",
    "print(\"Multinomial Naive Bayes accuracy:\", mnb_score)\n",
    "print(\"Bernoulli Naive Bayes accuracy:\", bnb_score)\n",
    "print(\"Complement Naive Bayes accuracy:\", cnb_score)\n",
    "\n",
    "# Select the best model based on the accuracy score\n",
    "best_model = max([(gnb_score, 'Gaussian'), (mnb_score, 'Multinomial'), (bnb_score, 'Bernoulli'), (cnb_score, 'Complement')])\n",
    "# print a separating line in output\n",
    "print(\"---------------------------------\")\n",
    "\n",
    "print(\"Best model:\", best_model[1])\n",
    "print(\"Best accuracy:\", best_model[0])\n"
   ]
  },
  {
   "attachments": {},
   "cell_type": "markdown",
   "metadata": {},
   "source": [
    "# **Text Classification:**"
   ]
  },
  {
   "cell_type": "code",
   "execution_count": 38,
   "metadata": {},
   "outputs": [
    {
     "name": "stdout",
     "output_type": "stream",
     "text": [
      "Accuracy: 0.8181818181818182\n"
     ]
    }
   ],
   "source": [
    "from sklearn.datasets import fetch_20newsgroups\n",
    "from sklearn.feature_extraction.text import CountVectorizer, TfidfTransformer\n",
    "from sklearn.model_selection import train_test_split\n",
    "from sklearn.naive_bayes import MultinomialNB\n",
    "from sklearn.metrics import accuracy_score\n",
    "\n",
    "# Load the 20 Newsgroups dataset\n",
    "categories = ['alt.atheism', 'talk.religion.misc']\n",
    "newsgroups = fetch_20newsgroups(subset='all', categories=categories, shuffle=True, random_state=42)\n",
    "\n",
    "# Split the dataset into training and testing sets\n",
    "X_train, X_test, y_train, y_test = train_test_split(newsgroups.data, newsgroups.target, test_size=0.3, random_state=42)\n",
    "\n",
    "# Convert the text data into feature vectors using bag-of-words model\n",
    "vectorizer = CountVectorizer()\n",
    "X_train_counts = vectorizer.fit_transform(X_train)\n",
    "X_test_counts = vectorizer.transform(X_test)\n",
    "\n",
    "# Transform the feature vectors using TF-IDF weighting\n",
    "tfidf_transformer = TfidfTransformer()\n",
    "X_train_tfidf = tfidf_transformer.fit_transform(X_train_counts)\n",
    "X_test_tfidf = tfidf_transformer.transform(X_test_counts)\n",
    "\n",
    "# Train the Naive Bayes model on the training set\n",
    "clf = MultinomialNB()\n",
    "clf.fit(X_train_tfidf, y_train)\n",
    "\n",
    "# Make predictions on the testing set\n",
    "y_pred = clf.predict(X_test_tfidf)\n",
    "\n",
    "# Calculate the accuracy score\n",
    "accuracy = accuracy_score(y_test, y_pred)\n",
    "print(\"Accuracy:\", accuracy)"
   ]
  },
  {
   "attachments": {},
   "cell_type": "markdown",
   "metadata": {},
   "source": [
    "# Sentiment Analysis"
   ]
  },
  {
   "cell_type": "code",
   "execution_count": 39,
   "metadata": {},
   "outputs": [
    {
     "name": "stdout",
     "output_type": "stream",
     "text": [
      "Accuracy: 0.9539007092198581\n",
      "Classification report:\n",
      "                        precision    recall  f1-score   support\n",
      "\n",
      "           alt.atheism       0.99      0.90      0.94       252\n",
      "         comp.graphics       0.97      0.99      0.98       295\n",
      "               sci.med       0.97      0.94      0.96       299\n",
      "soc.religion.christian       0.89      0.98      0.94       282\n",
      "\n",
      "              accuracy                           0.95      1128\n",
      "             macro avg       0.96      0.95      0.95      1128\n",
      "          weighted avg       0.96      0.95      0.95      1128\n",
      "\n"
     ]
    }
   ],
   "source": [
    "from sklearn.datasets import fetch_20newsgroups\n",
    "from sklearn.feature_extraction.text import CountVectorizer, TfidfTransformer\n",
    "from sklearn.model_selection import train_test_split\n",
    "from sklearn.naive_bayes import MultinomialNB\n",
    "from sklearn.metrics import accuracy_score, classification_report\n",
    "\n",
    "# Load the 20 Newsgroups dataset\n",
    "newsgroups = fetch_20newsgroups(subset='all', categories=['alt.atheism', 'comp.graphics', 'sci.med', 'soc.religion.christian'], shuffle=True, random_state=42)\n",
    "\n",
    "# Split the dataset into training and testing sets\n",
    "X_train, X_test, y_train, y_test = train_test_split(newsgroups.data, newsgroups.target, test_size=0.3, random_state=42)\n",
    "\n",
    "# Convert the text data into feature vectors using bag-of-words model\n",
    "vectorizer = CountVectorizer(stop_words='english', ngram_range=(1,2))\n",
    "X_train_counts = vectorizer.fit_transform(X_train)\n",
    "X_test_counts = vectorizer.transform(X_test)\n",
    "\n",
    "# Transform the feature vectors using TF-IDF weighting\n",
    "tfidf_transformer = TfidfTransformer()\n",
    "X_train_tfidf = tfidf_transformer.fit_transform(X_train_counts)\n",
    "X_test_tfidf = tfidf_transformer.transform(X_test_counts)\n",
    "\n",
    "# Train the Naive Bayes model on the training set\n",
    "clf = MultinomialNB()\n",
    "clf.fit(X_train_tfidf, y_train)\n",
    "\n",
    "# Make predictions on the testing set\n",
    "y_pred = clf.predict(X_test_tfidf)\n",
    "\n",
    "# Calculate the accuracy score and classification report\n",
    "accuracy = accuracy_score(y_test, y_pred)\n",
    "print(\"Accuracy:\", accuracy)\n",
    "print(\"Classification report:\")\n",
    "print(classification_report(y_test, y_pred, target_names=newsgroups.target_names))\n"
   ]
  },
  {
   "attachments": {},
   "cell_type": "markdown",
   "metadata": {},
   "source": [
    "# Check your sentiment"
   ]
  },
  {
   "cell_type": "code",
   "execution_count": 42,
   "metadata": {},
   "outputs": [
    {
     "name": "stdout",
     "output_type": "stream",
     "text": [
      "Negative\n"
     ]
    }
   ],
   "source": [
    "# Load the trained Naive Bayes model\n",
    "clf = MultinomialNB()\n",
    "clf.fit(X_train_tfidf, y_train)\n",
    "\n",
    "# Define your own text\n",
    "my_text = \"The movie was sick.\"\n",
    "\n",
    "# Convert your text into a feature vector using the same CountVectorizer and TfidfTransformer objects used for training\n",
    "my_text_counts = vectorizer.transform([my_text])\n",
    "my_text_tfidf = tfidf_transformer.transform(my_text_counts)\n",
    "\n",
    "# Make a prediction on your text\n",
    "my_sentiment = clf.predict(my_text_tfidf)\n",
    "\n",
    "# Print the predicted sentiment\n",
    "if my_sentiment == 1:\n",
    "    print(\"Positive\")\n",
    "else:\n",
    "    print(\"Negative\")"
   ]
  }
 ],
 "metadata": {
  "kernelspec": {
   "display_name": "python_ml",
   "language": "python",
   "name": "python3"
  },
  "language_info": {
   "codemirror_mode": {
    "name": "ipython",
    "version": 3
   },
   "file_extension": ".py",
   "mimetype": "text/x-python",
   "name": "python",
   "nbconvert_exporter": "python",
   "pygments_lexer": "ipython3",
   "version": "3.11.0"
  },
  "orig_nbformat": 4
 },
 "nbformat": 4,
 "nbformat_minor": 2
}
