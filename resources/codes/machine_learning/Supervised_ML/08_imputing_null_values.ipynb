{
 "cells": [
  {
   "cell_type": "code",
   "execution_count": 17,
   "metadata": {},
   "outputs": [
    {
     "data": {
      "text/plain": [
       "array([[1.  , 5.  , 1.  ],\n",
       "       [2.  , 4.25, 2.  ],\n",
       "       [3.6 , 4.25, 3.  ],\n",
       "       [4.  , 4.  , 3.4 ],\n",
       "       [5.  , 3.  , 5.  ],\n",
       "       [6.  , 5.  , 6.  ]])"
      ]
     },
     "execution_count": 17,
     "metadata": {},
     "output_type": "execute_result"
    }
   ],
   "source": [
    "import pandas as pd\n",
    "from sklearn.impute import KNNImputer\n",
    "\n",
    "# create a simple dataset\n",
    "df = pd.DataFrame({'A': [1, 2, None, 4, 5, 6], \n",
    "                     'B': [5, None, None, 4, 3, 5], \n",
    "                     'C': [1, 2, 3, None, 5, 6]})\n",
    "\n",
    "# creating an imputer\n",
    "imputer = KNNImputer(n_neighbors=5)\n",
    "\n",
    "# fit the imputer\n",
    "imputed = imputer.fit(df)\n",
    "\n",
    "# replace values in original data\n",
    "df_imputed = imputed.transform(df)\n",
    "df_imputed"
   ]
  },
  {
   "cell_type": "code",
   "execution_count": 10,
   "metadata": {},
   "outputs": [
    {
     "data": {
      "text/plain": [
       "array([[1. , 5. , 1. ],\n",
       "       [2. , 4.5, 2. ],\n",
       "       [1.5, 4. , 3. ],\n",
       "       [4. , 4. , 5.5],\n",
       "       [5. , 3. , 5. ],\n",
       "       [6. , 5. , 6. ]])"
      ]
     },
     "execution_count": 10,
     "metadata": {},
     "output_type": "execute_result"
    }
   ],
   "source": [
    "df_imputed"
   ]
  },
  {
   "cell_type": "code",
   "execution_count": 20,
   "metadata": {},
   "outputs": [
    {
     "data": {
      "text/plain": [
       "{'add_indicator': False,\n",
       " 'copy': True,\n",
       " 'keep_empty_features': False,\n",
       " 'metric': 'nan_euclidean',\n",
       " 'missing_values': nan,\n",
       " 'n_neighbors': 5,\n",
       " 'weights': 'uniform'}"
      ]
     },
     "execution_count": 20,
     "metadata": {},
     "output_type": "execute_result"
    }
   ],
   "source": [
    "imputer.get_params()"
   ]
  },
  {
   "cell_type": "code",
   "execution_count": 22,
   "metadata": {},
   "outputs": [
    {
     "name": "stdout",
     "output_type": "stream",
     "text": [
      "   survived  pclass     sex   age  sibsp  parch     fare embarked  class  \\\n",
      "0         0       3    male  22.0      1      0   7.2500        S  Third   \n",
      "1         1       1  female  38.0      1      0  71.2833        C  First   \n",
      "2         1       3  female  26.0      0      0   7.9250        S  Third   \n",
      "3         1       1  female  35.0      1      0  53.1000        S  First   \n",
      "4         0       3    male  35.0      0      0   8.0500        S  Third   \n",
      "\n",
      "     who  adult_male deck  embark_town alive  alone  \n",
      "0    man        True  NaN  Southampton    no  False  \n",
      "1  woman       False    C    Cherbourg   yes  False  \n",
      "2  woman       False  NaN  Southampton   yes   True  \n",
      "3  woman       False    C  Southampton   yes  False  \n",
      "4    man        True  NaN  Southampton    no   True  \n"
     ]
    }
   ],
   "source": [
    "import pandas as pd\n",
    "import seaborn as sns\n",
    "from sklearn.impute import KNNImputer\n",
    "\n",
    "# Load the Titanic dataset\n",
    "titanic_data = sns.load_dataset('titanic')\n",
    "\n",
    "# Select the relevant columns containing missing values\n",
    "columns_with_nulls = ['age', 'fare']\n",
    "\n",
    "# Create a new DataFrame with the selected columns\n",
    "data = titanic_data[columns_with_nulls].copy()\n",
    "\n",
    "# Create an instance of KNNImputer\n",
    "imputer = KNNImputer(n_neighbors=5)\n",
    "\n",
    "# Fit and transform the data\n",
    "imputed_data = imputer.fit_transform(data)\n",
    "\n",
    "# Replace null values in the original DataFrame\n",
    "titanic_data[['age', 'fare']] = imputed_data\n",
    "\n",
    "# Print the modified DataFrame\n",
    "print(titanic_data.head())\n"
   ]
  }
 ],
 "metadata": {
  "kernelspec": {
   "display_name": "python_ml",
   "language": "python",
   "name": "python3"
  },
  "language_info": {
   "codemirror_mode": {
    "name": "ipython",
    "version": 3
   },
   "file_extension": ".py",
   "mimetype": "text/x-python",
   "name": "python",
   "nbconvert_exporter": "python",
   "pygments_lexer": "ipython3",
   "version": "3.11.0"
  },
  "orig_nbformat": 4
 },
 "nbformat": 4,
 "nbformat_minor": 2
}
